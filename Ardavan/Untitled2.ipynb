{
 "cells": [
  {
   "cell_type": "code",
   "execution_count": 1,
   "id": "e6f0502e",
   "metadata": {},
   "outputs": [],
   "source": [
    "size = 64\n",
    "batchSize = 70\n",
    "train_path = \"images/train/\"\n",
    "test_path = \"images/test/\"\n",
    "epoch_num = 1"
   ]
  },
  {
   "cell_type": "code",
   "execution_count": 2,
   "id": "ee0a0834",
   "metadata": {},
   "outputs": [
    {
     "name": "stderr",
     "output_type": "stream",
     "text": [
      "/usr/local/lib/python3.9/site-packages/tqdm/auto.py:22: TqdmWarning: IProgress not found. Please update jupyter and ipywidgets. See https://ipywidgets.readthedocs.io/en/stable/user_install.html\n",
      "  from .autonotebook import tqdm as notebook_tqdm\n"
     ]
    }
   ],
   "source": [
    "import kornia as kornia\n",
    "import numpy as np\n",
    "import plotly.express as px\n",
    "import torch\n",
    "from kornia.color import lab_to_rgb, rgb_to_linear_rgb, rgb_to_xyz, xyz_to_rgb, linear_rgb_to_rgb\n",
    "from skimage import color\n",
    "import torchvision.transforms as T\n",
    "import torchvision.datasets\n",
    "from skimage.io import imshow\n",
    "from torchvision import datasets, transforms\n",
    "import torchvision.models as models\n",
    "import torch.nn as nn\n",
    "import torch.optim as optim\n",
    "import torch.nn.functional as F\n",
    "# For plotting\n",
    "import numpy as np\n",
    "import matplotlib.pyplot as plt\n",
    "# For conversion\n",
    "from skimage.color import lab2rgb, rgb2lab, rgb2gray\n",
    "from skimage import io\n",
    "# For everything\n",
    "import torch\n",
    "import torch.nn as nn\n",
    "import torch.nn.functional as F\n",
    "# For our model\n",
    "import torchvision.models as models\n",
    "from torchvision import datasets, transforms\n",
    "# For utilities\n",
    "import os, shutil, time\n",
    "from torch.utils.data import DataLoader"
   ]
  },
  {
   "cell_type": "code",
   "execution_count": 3,
   "id": "d26e7901",
   "metadata": {},
   "outputs": [],
   "source": [
    "def rgb_to_lab(image: torch.Tensor) -> torch.Tensor:\n",
    "    if not isinstance(image, torch.Tensor):\n",
    "        raise TypeError(f\"Input type is not a torch.Tensor. Got {type(image)}\")\n",
    "\n",
    "    if len(image.shape) < 3 or image.shape[-3] != 3:\n",
    "        raise ValueError(f\"Input size must have a shape of (*, 3, H, W). Got {image.shape}\")\n",
    "\n",
    "    # Convert from sRGB to Linear RGB\n",
    "    lin_rgb = rgb_to_linear_rgb(image)\n",
    "\n",
    "    xyz_im: torch.Tensor = rgb_to_xyz(lin_rgb)\n",
    "\n",
    "    # normalize for D65 white point\n",
    "    xyz_ref_white = torch.tensor([0.95047, 1.0, 1.08883], device=xyz_im.device, dtype=xyz_im.dtype)[..., :, None, None]\n",
    "    xyz_normalized = torch.div(xyz_im, xyz_ref_white)\n",
    "\n",
    "    threshold = 0.008856\n",
    "    power = torch.pow(xyz_normalized.clamp(min=threshold), 1 / 3.0)\n",
    "    scale = 7.787 * xyz_normalized + 4.0 / 29.0\n",
    "    xyz_int = torch.where(xyz_normalized > threshold, power, scale)\n",
    "\n",
    "    x: torch.Tensor = xyz_int[..., 0, :, :]\n",
    "    y: torch.Tensor = xyz_int[..., 1, :, :]\n",
    "    z: torch.Tensor = xyz_int[..., 2, :, :]\n",
    "\n",
    "    L: torch.Tensor = (116.0 * y) - 16.0\n",
    "    a: torch.Tensor = 500.0 * (x - y)\n",
    "    _b: torch.Tensor = 200.0 * (y - z)\n",
    "\n",
    "    out: torch.Tensor = torch.stack([L, a, _b], dim=-3)\n",
    "\n",
    "    return out"
   ]
  },
  {
   "cell_type": "code",
   "execution_count": 4,
   "id": "b48d0d7b",
   "metadata": {},
   "outputs": [],
   "source": [
    "def lab_to_rgb(L: torch.Tensor, a: torch.Tensor, _b: torch.Tensor, clip: bool = True) -> torch.Tensor:\n",
    "    # if not isinstance(image, torch.Tensor):\n",
    "    #     raise TypeError(f\"Input type is not a torch.Tensor. Got {type(image)}\")\n",
    "    #\n",
    "    # if len(image.shape) < 3 or image.shape[-3] != 3:\n",
    "    #     raise ValueError(f\"Input size must have a shape of (*, 3, H, W). Got {image.shape}\")\n",
    "\n",
    "    # L: torch.Tensor = image[..., 0, :, :]\n",
    "    # a: torch.Tensor = image[..., 1, :, :]\n",
    "    # _b: torch.Tensor = image[..., 2, :, :]\n",
    "\n",
    "    fy = (L + 16.0) / 116.0\n",
    "    fx = (a / 500.0) + fy\n",
    "    fz = fy - (_b / 200.0)\n",
    "\n",
    "    # if color data out of range: Z < 0\n",
    "    fz = fz.clamp(min=0.0)\n",
    "\n",
    "    fxyz = torch.stack([fx, fy, fz], dim=-3)\n",
    "\n",
    "    # Convert from Lab to XYZ\n",
    "    power = torch.pow(fxyz, 3.0)\n",
    "    scale = (fxyz - 4.0 / 29.0) / 7.787\n",
    "    xyz = torch.where(fxyz > 0.2068966, power, scale)\n",
    "\n",
    "    # For D65 white point\n",
    "    xyz_ref_white = torch.tensor([0.95047, 1.0, 1.08883], device=xyz.device, dtype=xyz.dtype)[..., :, None, None]\n",
    "    xyz_im = xyz * xyz_ref_white\n",
    "\n",
    "    rgbs_im: torch.Tensor = xyz_to_rgb(xyz_im)\n",
    "\n",
    "    # https://github.com/richzhang/colorization-pytorch/blob/66a1cb2e5258f7c8f374f582acc8b1ef99c13c27/util/util.py#L107\n",
    "    #     rgbs_im = torch.where(rgbs_im < 0, torch.zeros_like(rgbs_im), rgbs_im)\n",
    "\n",
    "    # Convert from RGB Linear to sRGB\n",
    "    rgb_im = linear_rgb_to_rgb(rgbs_im)\n",
    "\n",
    "    # Clip to 0,1 https://www.w3.org/Graphics/Color/srgb\n",
    "    if clip:\n",
    "        rgb_im = torch.clamp(rgb_im, min=0.0, max=1.0)\n",
    "\n",
    "    return rgb_im"
   ]
  },
  {
   "cell_type": "code",
   "execution_count": 5,
   "id": "9c0ade89",
   "metadata": {},
   "outputs": [],
   "source": [
    "device = torch.device('cuda' if torch.cuda.is_available() else 'cpu')"
   ]
  },
  {
   "cell_type": "code",
   "execution_count": 6,
   "id": "f7d9cf78",
   "metadata": {},
   "outputs": [],
   "source": [
    "train_transform = transforms.Compose([\n",
    "    transforms.Resize((size, size)),\n",
    "    transforms.ToTensor(),\n",
    "])\n",
    "test_transform = transforms.Compose([\n",
    "    transforms.Resize((size, size)),\n",
    "    transforms.ToTensor(),\n",
    "])"
   ]
  },
  {
   "cell_type": "code",
   "execution_count": 7,
   "id": "7f5c0d52",
   "metadata": {},
   "outputs": [],
   "source": [
    "train_dataset = torchvision.datasets.ImageFolder(root=train_path, transform=train_transform)\n",
    "train_loader = torch.utils.data.DataLoader(train_dataset, batch_size=batchSize, shuffle=True)"
   ]
  },
  {
   "cell_type": "code",
   "execution_count": 8,
   "id": "6bad4114",
   "metadata": {},
   "outputs": [],
   "source": [
    "test_dataset = torchvision.datasets.ImageFolder(root=train_path, transform=train_transform)\n",
    "test_loader = torch.utils.data.DataLoader(train_dataset, batch_size=batchSize, shuffle=False)"
   ]
  },
  {
   "cell_type": "code",
   "execution_count": 9,
   "id": "98b822fd",
   "metadata": {},
   "outputs": [],
   "source": [
    "class CNN(nn.Module):\n",
    "    def __init__(self):\n",
    "        super(CNN, self).__init__()\n",
    "        self.layer1 = torch.nn.Linear(size, size)\n",
    "        self.layer2 = nn.Sequential(\n",
    "            nn.Conv2d(1, 16, kernel_size=3, stride=1, padding=1),\n",
    "            nn.ReLU(),\n",
    "            nn.Conv2d(16, 32, kernel_size=3, stride=1, padding=1),\n",
    "            nn.ReLU(),\n",
    "            nn.Conv2d(32, 64, kernel_size=3, stride=1, padding=1),\n",
    "            nn.ReLU(),\n",
    "            nn.Conv2d(64, 128, kernel_size=3, stride=1, padding=1),\n",
    "            nn.ReLU(),\n",
    "            nn.Conv2d(128, 256, kernel_size=3, stride=1, padding=1),\n",
    "            nn.ReLU(),\n",
    "            nn.Conv2d(256, 128, kernel_size=3, stride=1, padding=1),\n",
    "            nn.ReLU(),\n",
    "            nn.Conv2d(128, 64, kernel_size=3, stride=1, padding=1),\n",
    "            nn.ReLU(),\n",
    "            nn.Conv2d(64, 32, kernel_size=3, stride=1, padding=1),\n",
    "            nn.ReLU(),\n",
    "            nn.Conv2d(32, 16, kernel_size=3, stride=1, padding=1),\n",
    "            nn.ReLU(),\n",
    "            nn.Conv2d(16, 2, kernel_size=3, stride=1, padding=1),\n",
    "            nn.Tanh(),\n",
    "        )          \n",
    "\n",
    "    def forward(self, x):\n",
    "        x = self.layer1(x)\n",
    "        out = self.layer2(x)\n",
    "        return out"
   ]
  },
  {
   "cell_type": "code",
   "execution_count": 10,
   "id": "80714240",
   "metadata": {},
   "outputs": [],
   "source": [
    "model = CNN().to(device)"
   ]
  },
  {
   "cell_type": "code",
   "execution_count": 11,
   "id": "a421abc9",
   "metadata": {},
   "outputs": [],
   "source": [
    "optimizer = torch.optim.SGD(model.parameters(), lr=0.2)"
   ]
  },
  {
   "cell_type": "code",
   "execution_count": 12,
   "id": "8d4b48fa",
   "metadata": {},
   "outputs": [],
   "source": [
    "loss_func = torch.nn.MSELoss()"
   ]
  },
  {
   "cell_type": "code",
   "execution_count": 13,
   "id": "ad3ff37c",
   "metadata": {},
   "outputs": [
    {
     "name": "stdout",
     "output_type": "stream",
     "text": [
      "Epoch: 0 \t data in batch 1: 20\n",
      "Epoch: 0 \t data in batch 1: 40\n",
      "Epoch: 0 \t data in batch 1: 60\n",
      "---------------------------\n",
      "Epoch: 0 \t data in batch 2: 20\n",
      "Epoch: 0 \t data in batch 2: 40\n",
      "Epoch: 0 \t data in batch 2: 60\n",
      "---------------------------\n",
      "Epoch: 0 \t data in batch 3: 20\n",
      "Epoch: 0 \t data in batch 3: 40\n",
      "Epoch: 0 \t data in batch 3: 60\n",
      "---------------------------\n",
      "Epoch: 0 \t data in batch 4: 20\n",
      "Epoch: 0 \t data in batch 4: 40\n",
      "Epoch: 0 \t data in batch 4: 60\n",
      "---------------------------\n",
      "Epoch: 0 \t data in batch 5: 20\n",
      "Epoch: 0 \t data in batch 5: 40\n",
      "Epoch: 0 \t data in batch 5: 60\n",
      "---------------------------\n",
      "Epoch: 0 \t data in batch 6: 20\n",
      "Epoch: 0 \t data in batch 6: 40\n",
      "Epoch: 0 \t data in batch 6: 60\n",
      "---------------------------\n",
      "Epoch: 0 \t data in batch 7: 20\n",
      "Epoch: 0 \t data in batch 7: 40\n",
      "Epoch: 0 \t data in batch 7: 60\n",
      "---------------------------\n",
      "Epoch: 0 \t data in batch 8: 20\n",
      "Epoch: 0 \t data in batch 8: 40\n",
      "Epoch: 0 \t data in batch 8: 60\n",
      "---------------------------\n",
      "Epoch: 0 \t data in batch 9: 20\n",
      "Epoch: 0 \t data in batch 9: 40\n",
      "Epoch: 0 \t data in batch 9: 60\n",
      "---------------------------\n",
      "Epoch: 0 \t data in batch 10: 20\n",
      "Epoch: 0 \t data in batch 10: 40\n",
      "Epoch: 0 \t data in batch 10: 60\n",
      "---------------------------\n",
      "Epoch: 0 \t data in batch 11: 20\n",
      "Epoch: 0 \t data in batch 11: 40\n",
      "Epoch: 0 \t data in batch 11: 60\n",
      "---------------------------\n",
      "Epoch: 0 \t data in batch 12: 20\n",
      "Epoch: 0 \t data in batch 12: 40\n",
      "Epoch: 0 \t data in batch 12: 60\n",
      "---------------------------\n",
      "Epoch: 0 \t data in batch 13: 20\n",
      "Epoch: 0 \t data in batch 13: 40\n",
      "Epoch: 0 \t data in batch 13: 60\n",
      "---------------------------\n",
      "Epoch: 0 \t data in batch 14: 20\n",
      "Epoch: 0 \t data in batch 14: 40\n",
      "Epoch: 0 \t data in batch 14: 60\n",
      "---------------------------\n",
      "Epoch: 0 \t data in batch 15: 20\n",
      "---------------------------\n"
     ]
    }
   ],
   "source": [
    "losses = []\n",
    "predictions = []\n",
    "tempPred2 = []\n",
    "batch_acc_list = []\n",
    "LAB = []\n",
    "LABForAllEpochs = []\n",
    "for epoch in range(epoch_num):\n",
    "    tempPred = []\n",
    "    LAB1 = []\n",
    "    Counter2 = 0\n",
    "    for idx, (data, target) in enumerate(train_loader):\n",
    "        Counter = 0\n",
    "        Counter2 = Counter2 + 1\n",
    "        for i in data:\n",
    "            Counter = Counter + 1\n",
    "            Lab = rgb_to_lab(i / (size-1))\n",
    "            LAB1.append(Lab)\n",
    "            x = Lab[0]\n",
    "            x2 = np.array(x)\n",
    "            L = torch.tensor(np.array([x2]))\n",
    "            AB = Lab[1:3]\n",
    "            # forward\n",
    "            scores = model(L)\n",
    "            tempPred.append(scores)\n",
    "            loss = loss_func(scores, AB)\n",
    "            losses.append(loss.item())\n",
    "            # backward\n",
    "            optimizer.zero_grad()\n",
    "            loss.backward()\n",
    "            # gradient descent step\n",
    "            optimizer.step()\n",
    "            if Counter%20 == 0:\n",
    "                print(f'Epoch: {epoch} \\t data in batch {Counter2}: {Counter}')\n",
    "        LAB.append(LAB1)\n",
    "        LAB1 = []\n",
    "        tempPred2.append(tempPred)\n",
    "        print(\"---------------------------\")\n",
    "        batch_acc = sum(losses)/len(losses)\n",
    "        batch_acc_list.append(batch_acc)\n",
    "        epoch_acc = sum(batch_acc_list)/len(batch_acc_list)\n",
    "        losses = []\n",
    "    predictions.append(tempPred2)\n",
    "    tempPred2 = []\n",
    "    LABForAllEpochs.append(LAB)\n",
    "    LAB = []"
   ]
  },
  {
   "cell_type": "code",
   "execution_count": 14,
   "id": "3c0debc1",
   "metadata": {},
   "outputs": [
    {
     "name": "stdout",
     "output_type": "stream",
     "text": [
      "1\n",
      "15\n",
      "20\n"
     ]
    }
   ],
   "source": [
    "print(len(LABForAllEpochs))\n",
    "print(len(LABForAllEpochs[0]))\n",
    "print(len(LABForAllEpochs[0][14]))"
   ]
  },
  {
   "cell_type": "code",
   "execution_count": 15,
   "id": "19754d18",
   "metadata": {},
   "outputs": [
    {
     "data": {
      "image/png": "[encoded data removed]",
      "text/plain": [
       "<PIL.Image.Image image mode=L size=64x64 at 0x10A72F400>"
      ]
     },
     "execution_count": 15,
     "metadata": {},
     "output_type": "execute_result"
    }
   ],
   "source": [
    "firstAB = predictions[0][0][20]\n",
    "LAB2 = LABForAllEpochs[0][0][20]\n",
    "transform = T.ToPILImage()\n",
    "img = transform(LAB2[0])\n",
    "img"
   ]
  },
  {
   "cell_type": "code",
   "execution_count": 16,
   "id": "399b9703",
   "metadata": {},
   "outputs": [
    {
     "data": {
      "image/png": "[encoded data removed]",
      "text/plain": [
       "<PIL.Image.Image image mode=L size=64x64 at 0x1241DB0D0>"
      ]
     },
     "execution_count": 16,
     "metadata": {},
     "output_type": "execute_result"
    }
   ],
   "source": [
    "transform = T.ToPILImage()\n",
    "img = transform(LAB2[1])\n",
    "img"
   ]
  },
  {
   "cell_type": "code",
   "execution_count": 17,
   "id": "2eaab1ad",
   "metadata": {},
   "outputs": [
    {
     "data": {
      "image/png": "[encoded data removed]",
      "text/plain": [
       "<PIL.Image.Image image mode=RGB size=64x64 at 0x1241D9D00>"
      ]
     },
     "execution_count": 17,
     "metadata": {},
     "output_type": "execute_result"
    }
   ],
   "source": [
    "transform = T.ToPILImage()\n",
    "img = transform(LAB2[0:3])\n",
    "img"
   ]
  },
  {
   "cell_type": "code",
   "execution_count": 18,
   "id": "644a4bf3",
   "metadata": {},
   "outputs": [
    {
     "data": {
      "image/png": "[encoded data removed]",
      "text/plain": [
       "<PIL.Image.Image image mode=RGB size=64x64 at 0x1241CA280>"
      ]
     },
     "execution_count": 18,
     "metadata": {},
     "output_type": "execute_result"
    }
   ],
   "source": [
    "output = lab_to_rgb(LAB2[0]*(size-1), LAB2[1]*(size-1), LAB2[2]*(size-1))\n",
    "img = transform(output)\n",
    "img"
   ]
  },
  {
   "cell_type": "code",
   "execution_count": 19,
   "id": "8974d38b",
   "metadata": {},
   "outputs": [
    {
     "data": {
      "image/png": "[encoded data removed]",
      "text/plain": [
       "<PIL.Image.Image image mode=L size=64x64 at 0x1241B3880>"
      ]
     },
     "execution_count": 19,
     "metadata": {},
     "output_type": "execute_result"
    }
   ],
   "source": [
    "transform = T.ToPILImage()\n",
    "img = transform(firstAB[1])\n",
    "img"
   ]
  },
  {
   "cell_type": "code",
   "execution_count": 20,
   "id": "03879185",
   "metadata": {},
   "outputs": [
    {
     "data": {
      "image/png": "[encoded data removed]",
      "text/plain": [
       "<PIL.Image.Image image mode=L size=64x64 at 0x1241CAE50>"
      ]
     },
     "execution_count": 20,
     "metadata": {},
     "output_type": "execute_result"
    }
   ],
   "source": [
    "transform = T.ToPILImage()\n",
    "img = transform(firstAB[0])\n",
    "img"
   ]
  },
  {
   "cell_type": "code",
   "execution_count": 22,
   "id": "4f3c8881",
   "metadata": {},
   "outputs": [
    {
     "data": {
      "image/png": "[encoded data removed]",
      "text/plain": [
       "<PIL.Image.Image image mode=LA size=64x64 at 0x12404A250>"
      ]
     },
     "execution_count": 22,
     "metadata": {},
     "output_type": "execute_result"
    }
   ],
   "source": [
    "transform = T.ToPILImage()\n",
    "img = transform(firstAB)\n",
    "img"
   ]
  },
  {
   "cell_type": "code",
   "execution_count": 21,
   "id": "6a021ee1",
   "metadata": {},
   "outputs": [
    {
     "data": {
      "image/png": "[encoded data removed]",
      "text/plain": [
       "<PIL.Image.Image image mode=RGB size=64x64 at 0x1241CAA90>"
      ]
     },
     "execution_count": 21,
     "metadata": {},
     "output_type": "execute_result"
    }
   ],
   "source": [
    "output = lab_to_rgb(LAB2[0]*(size-1), firstAB[0]*(size-1), firstAB[1]*(size-1))\n",
    "img = transform(output)\n",
    "img"
   ]
  },
  {
   "cell_type": "code",
   "execution_count": null,
   "id": "baaf7eee",
   "metadata": {},
   "outputs": [],
   "source": []
  }
 ],
 "metadata": {
  "kernelspec": {
   "display_name": "Python 3 (ipykernel)",
   "language": "python",
   "name": "python3"
  },
  "language_info": {
   "codemirror_mode": {
    "name": "ipython",
    "version": 3
   },
   "file_extension": ".py",
   "mimetype": "text/x-python",
   "name": "python",
   "nbconvert_exporter": "python",
   "pygments_lexer": "ipython3",
   "version": "3.9.15"
  }
 },
 "nbformat": 4,
 "nbformat_minor": 5
}
